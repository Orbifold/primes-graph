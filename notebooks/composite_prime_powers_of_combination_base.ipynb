{
 "cells": [
  {
   "attachments": {},
   "cell_type": "markdown",
   "id": "c361d2ec",
   "metadata": {},
   "source": [
    "# Composite prime powers\n",
    "\n",
    "Intention here is to analyze how the graph of primes with edges between prime numbers $u$, $v$ defined as\n",
    "\n",
    "$$u\\sim v \\Leftrightarrow |u-v| = 2^\\alpha 3^\\beta \\;\\; \\alpha,\\beta \\in \\mathbb{N}$$\n",
    "\n",
    "leads to some remarkable graph patterns.\n",
    "\n",
    "We'll look at five different cases in function of allowed values for $\\alpha$ and $\\beta$:\n",
    "\n",
    "- G: the values for $\\alpha$ and $\\beta$ are arbitrary positive integers\n",
    "- $G_{00}$: the values for $\\alpha$ and $\\beta$ are not prime\n",
    "- $G_{10}$: the values for $\\alpha$ is prime and $\\beta$ is not prime\n",
    "- $G_{01}$: the values for $\\alpha$ is not prime and $\\beta$ is prime\n",
    "- $G_{11}$: the values for $\\alpha$ is prime and $\\beta$ is prime"
   ]
  },
  {
   "attachments": {},
   "cell_type": "markdown",
   "id": "8d9fe872",
   "metadata": {},
   "source": [
    "## Preliminaries\n",
    "\n",
    "Some function and setup used in what follows."
   ]
  },
  {
   "cell_type": "code",
   "execution_count": 60,
   "id": "2e21233f",
   "metadata": {},
   "outputs": [],
   "source": [
    "import networkx as nx\n",
    "import matplotlib.pyplot as plt\n",
    "import numpy as np\n",
    " "
   ]
  },
  {
   "cell_type": "code",
   "execution_count": 32,
   "id": "621a4a9d",
   "metadata": {},
   "outputs": [],
   "source": [
    "def is_prime(n): \n",
    "    \"\"\"Python function for checking prime or not\"\"\"\n",
    "    if n <= 1:\n",
    "        return False\n",
    "    for i in range(2, n):\n",
    "        if (n % i == 0):\n",
    "            return False;\n",
    "    return True"
   ]
  },
  {
   "attachments": {},
   "cell_type": "markdown",
   "id": "d82a5136",
   "metadata": {},
   "source": [
    "We'll use the first 5000 primes:"
   ]
  },
  {
   "cell_type": "code",
   "execution_count": 35,
   "id": "dfc7b9fc",
   "metadata": {},
   "outputs": [],
   "source": [
    "p = []\n",
    "n = 2\n",
    "M = 5000  #for first M number of primes\n",
    "while (len(p) < M):\n",
    "    if(is_prime(n)==True):\n",
    "        p = p + [n] #p stores only prime numbers\n",
    "    n = n +1 "
   ]
  },
  {
   "attachments": {},
   "cell_type": "markdown",
   "id": "b1acb912",
   "metadata": {},
   "source": [
    "The 5000x5000 set of edge endpoints:"
   ]
  },
  {
   "cell_type": "code",
   "execution_count": 36,
   "id": "7ef2cc66",
   "metadata": {},
   "outputs": [],
   "source": [
    "from itertools import product\n",
    "p1 = set(p)\n",
    "n1 = list(set(product(p1, repeat = 2))) # n1 contains all possible prime tuples upto 5000"
   ]
  },
  {
   "attachments": {},
   "cell_type": "markdown",
   "id": "96d38880",
   "metadata": {},
   "source": [
    "To speed up the computation we cache here some values. Specifically, the set of distances which constrain the allowed edges."
   ]
  },
  {
   "cell_type": "code",
   "execution_count": 46,
   "id": "84c662da",
   "metadata": {},
   "outputs": [],
   "source": [
    "\n",
    "exponent_max = 10 # the highest exponent allowed\n",
    "prime_exponents =np.array([u for u in range(exponent_max) if is_prime(u)])\n",
    "non_prime_exponents = np.array([u for u in range(exponent_max) if not is_prime(u)])\n",
    "any_exponent = range(exponent_max)\n",
    "def create_distances(alpha:bool, beta:bool):\n",
    "    \"\"\"Generates a list of distances with the given constraints on the exponents.\"\"\"\n",
    "    p = prime_exponents if alpha==True else non_prime_exponents\n",
    "    q = prime_exponents if beta==True else non_prime_exponents\n",
    "    distance_tuples = list(set(product(set(pow(2,p)),set(pow(3,q)))))\n",
    "    distances = [ np.prod(u) for u in distance_tuples]\n",
    "    return distances"
   ]
  },
  {
   "attachments": {},
   "cell_type": "markdown",
   "id": "4fd30f51",
   "metadata": {},
   "source": [
    "The construction of the full graph is now:"
   ]
  },
  {
   "cell_type": "code",
   "execution_count": 61,
   "id": "7677c0cc",
   "metadata": {},
   "outputs": [],
   "source": [
    "def create_full_graph():\n",
    "    distances =  [ np.prod(u) for u in list(set(product(set(pow(2,np.arange(exponent_max))),set(pow(3,np.arange(exponent_max))))))]\n",
    "    valid_endpoints = [(u,v) for u,v in n1 if np.abs(u-v) in distances]\n",
    "    g = nx.Graph()\n",
    "    g.add_edges_from(valid_endpoints)\n",
    "    return g\n",
    "    \n",
    "G = create_full_graph()"
   ]
  },
  {
   "attachments": {},
   "cell_type": "markdown",
   "id": "033e2d23",
   "metadata": {},
   "source": [
    "The constraint sub-graphs on the other hand:"
   ]
  },
  {
   "cell_type": "code",
   "execution_count": 62,
   "id": "a91b1995",
   "metadata": {},
   "outputs": [],
   "source": [
    "def create_constrained_graph(alpha, beta):\n",
    "    distances = create_distances(alpha,beta);\n",
    "    valid_endpoints = [(u,v) for u,v in n1 if np.abs(u-v) in distances]\n",
    "    g = nx.Graph()\n",
    "    g.add_edges_from(valid_endpoints)\n",
    "    return g\n",
    "\n",
    "G00 = create_constrained_graph(False, False)\n",
    "G10 = create_constrained_graph(True, False)\n",
    "G01 = create_constrained_graph(False, True)\n",
    "G11 = create_constrained_graph(True, True)"
   ]
  },
  {
   "attachments": {},
   "cell_type": "markdown",
   "id": "d8a25678",
   "metadata": {},
   "source": [
    "## Connected components"
   ]
  },
  {
   "attachments": {},
   "cell_type": "markdown",
   "id": "19104270",
   "metadata": {},
   "source": [
    "The unconstrained graph has one large component with around 70K edges:"
   ]
  },
  {
   "cell_type": "code",
   "execution_count": 66,
   "id": "88d5b2ff",
   "metadata": {},
   "outputs": [
    {
     "name": "stdout",
     "output_type": "stream",
     "text": [
      "Components: 1, nodes: 5000, edges: 70437 \n"
     ]
    }
   ],
   "source": [
    "C = [G.subgraph(c).copy() for c in sorted(nx.connected_components(G), key=len, reverse=True)]\n",
    "print(f\"Components: {len(C)}, nodes: {len(G.nodes)}, edges: {len(G.edges)} \") # It gives number of connected components for case 1"
   ]
  },
  {
   "attachments": {},
   "cell_type": "markdown",
   "id": "8544d46b",
   "metadata": {},
   "source": [
    "For the constrained cases we get the following:"
   ]
  },
  {
   "cell_type": "code",
   "execution_count": 71,
   "id": "359be44f",
   "metadata": {},
   "outputs": [
    {
     "name": "stdout",
     "output_type": "stream",
     "text": [
      "G00: components: 1, nodes: 4999, edges: 18655 \n",
      "G10: components: 2, nodes: 4999, edges: 17010 \n",
      "G01: components: 6, nodes: 4999, edges: 17828 \n",
      "G11: components: 12, nodes: 4997, edges: 16944 \n"
     ]
    }
   ],
   "source": [
    "for name in [\"G00\",\"G10\",\"G01\",\"G11\"]:\n",
    "    g = vars()[name]\n",
    "    c = [g.subgraph(c).copy() for c in sorted(nx.connected_components(g), key=len, reverse=True)]\n",
    "    print(f\"{name}: components: {len(c)}, nodes: {len(g.nodes)}, edges: {len(g.edges)} \")"
   ]
  },
  {
   "attachments": {},
   "cell_type": "markdown",
   "id": "4d60a2df",
   "metadata": {},
   "source": [
    "The reason that the  node count does not equal to 5000 is due to the way the graph is constructed from the edge tuples. It means that G11 has effectively three isolated nodes.\n",
    "\n",
    "For instance in the case of G11 the prime with value 2 is isolated:"
   ]
  },
  {
   "cell_type": "code",
   "execution_count": 73,
   "id": "04cd38ea",
   "metadata": {},
   "outputs": [
    {
     "data": {
      "text/plain": [
       "False"
      ]
     },
     "execution_count": 73,
     "metadata": {},
     "output_type": "execute_result"
    }
   ],
   "source": [
    "G11.has_node(2)"
   ]
  }
 ],
 "metadata": {
  "kernelspec": {
   "display_name": "Python 3 (ipykernel)",
   "language": "python",
   "name": "python3"
  },
  "language_info": {
   "codemirror_mode": {
    "name": "ipython",
    "version": 3
   },
   "file_extension": ".py",
   "mimetype": "text/x-python",
   "name": "python",
   "nbconvert_exporter": "python",
   "pygments_lexer": "ipython3",
   "version": "3.9.13"
  }
 },
 "nbformat": 4,
 "nbformat_minor": 5
}
